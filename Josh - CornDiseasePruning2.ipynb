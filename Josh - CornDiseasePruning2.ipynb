{
 "cells": [
  {
   "cell_type": "markdown",
   "metadata": {},
   "source": [
    "If you want to rerun the code here, you will need to download the dataset from https://www.kaggle.com/datasets/smaranjitghose/corn-or-maize-leaf-disease-dataset?resource=download and change the file paths to point to the appropriate locations.\n",
    "\n",
    "* Sections 0, 1, and 2 are mostly setup and/or mostly other peoples' code. You should be able to skip over them.\n",
    "* My commentary starts in section 3\n",
    "* Results are in section 4\n",
    "* Ideas for further improvements are in section 5"
   ]
  },
  {
   "cell_type": "markdown",
   "metadata": {},
   "source": [
    "# 0. Imports"
   ]
  },
  {
   "cell_type": "code",
   "execution_count": 1,
   "metadata": {},
   "outputs": [],
   "source": [
    "#importing libraries\n",
    "import os\n",
    "import numpy as np\n",
    "import torch # Note: Using pytorch instead of Tensorflow\n",
    "import torch.nn as nn\n",
    "import torch.nn.utils.prune as prune\n",
    "from torch.utils.data import DataLoader\n",
    "import splitfolders\n",
    "import torchvision\n",
    "from torchvision import models, transforms\n",
    "import matplotlib.pyplot as plt\n",
    "import matplotlib.image as mpimg\n",
    "from PIL import Image\n",
    "import random\n",
    "import copy"
   ]
  },
  {
   "cell_type": "markdown",
   "metadata": {},
   "source": [
    "# 1. Setup\n",
    "Mostly code from Siddarth"
   ]
  },
  {
   "cell_type": "code",
   "execution_count": 2,
   "metadata": {},
   "outputs": [
    {
     "name": "stdout",
     "output_type": "stream",
     "text": [
      "Device:  cpu\n",
      "Switching device to available device\n"
     ]
    }
   ],
   "source": [
    "# Setting up the device to be used\n",
    "device = \"cuda\" if torch.cuda.is_available() else \"cpu\"\n",
    "print(\"Device: \", device)\n",
    "print(\"Switching device to available device\")\n",
    "device = torch.device(device)"
   ]
  },
  {
   "cell_type": "code",
   "execution_count": 3,
   "metadata": {},
   "outputs": [],
   "source": [
    "def train_mode(model, train_loader, optimizer, loss_fn, device):\n",
    "    model.train()  # Set the model to training mode\n",
    "    criterion = loss_fn\n",
    "    total_loss = 0.0\n",
    "    correct = 0\n",
    "    total = 0\n",
    "\n",
    "    for images, labels in train_loader:\n",
    "        images = images.to(device)\n",
    "        labels = labels.to(device)\n",
    "\n",
    "        optimizer.zero_grad()\n",
    "        outputs = model(images)\n",
    "        loss = criterion(outputs, labels)\n",
    "        loss.backward()\n",
    "        optimizer.step()\n",
    "\n",
    "        total_loss += loss.item()\n",
    "        _, predicted = outputs.max(1)\n",
    "        total += labels.size(0)\n",
    "        correct += predicted.eq(labels).sum().item()\n",
    "\n",
    "    avg_loss = total_loss / len(train_loader)\n",
    "    accuracy = 100.0 * correct / total\n",
    "\n",
    "    return avg_loss, accuracy\n",
    "\n",
    "def validate_model(model, test_loader, loss_fn, device):\n",
    "    model.eval()  # Set the model to evaluation mode\n",
    "    criterion = loss_fn\n",
    "    total_loss = 0.0\n",
    "    correct = 0\n",
    "    total = 0\n",
    "\n",
    "    with torch.no_grad():\n",
    "        for images, labels in test_loader:\n",
    "            images = images.to(device)\n",
    "            labels = labels.to(device)\n",
    "\n",
    "            outputs = model(images)\n",
    "            loss = criterion(outputs, labels)\n",
    "\n",
    "            total_loss += loss.item()\n",
    "            _, predicted = outputs.max(1)\n",
    "            total += labels.size(0)\n",
    "            correct += predicted.eq(labels).sum().item()\n",
    "\n",
    "    avg_loss = total_loss / len(test_loader)\n",
    "    accuracy = 100.0 * correct / total\n",
    "\n",
    "    return avg_loss, accuracy"
   ]
  },
  {
   "cell_type": "code",
   "execution_count": 4,
   "metadata": {},
   "outputs": [],
   "source": [
    "# Testing accuracy on the test set\n",
    "def evaluate_model(model, test_loader, loss_fn, device):\n",
    "    criterion = loss_fn\n",
    "    total_loss = 0.0\n",
    "    correct = 0\n",
    "    total = 0\n",
    "\n",
    "    with torch.no_grad():\n",
    "        for images, labels in test_loader:\n",
    "            images = images.to(device)\n",
    "            labels = labels.to(device)\n",
    "\n",
    "            outputs = model(images)\n",
    "            loss = criterion(outputs, labels)\n",
    "\n",
    "            total_loss += loss.item()\n",
    "            _, predicted = outputs.max(1)\n",
    "            total += labels.size(0)\n",
    "            correct += predicted.eq(labels).sum().item()\n",
    "\n",
    "    avg_loss = total_loss / len(test_loader)\n",
    "    accuracy = 100.0 * correct / total\n",
    "\n",
    "    print(f\"Test Loss: {avg_loss:.4f} | Test Accuracy: {accuracy:.2f}%\")\n",
    "    return avg_loss, accuracy   # josh added"
   ]
  },
  {
   "cell_type": "markdown",
   "metadata": {},
   "source": [
    "# 2. Model Prep\n",
    "\n",
    "Also mostly from Siddarth"
   ]
  },
  {
   "cell_type": "code",
   "execution_count": 19,
   "metadata": {},
   "outputs": [
    {
     "data": {
      "text/plain": [
       "ResNet(\n",
       "  (conv1): Conv2d(3, 64, kernel_size=(7, 7), stride=(2, 2), padding=(3, 3), bias=False)\n",
       "  (bn1): BatchNorm2d(64, eps=1e-05, momentum=0.1, affine=True, track_running_stats=True)\n",
       "  (relu): ReLU(inplace=True)\n",
       "  (maxpool): MaxPool2d(kernel_size=3, stride=2, padding=1, dilation=1, ceil_mode=False)\n",
       "  (layer1): Sequential(\n",
       "    (0): BasicBlock(\n",
       "      (conv1): Conv2d(64, 64, kernel_size=(3, 3), stride=(1, 1), padding=(1, 1), bias=False)\n",
       "      (bn1): BatchNorm2d(64, eps=1e-05, momentum=0.1, affine=True, track_running_stats=True)\n",
       "      (relu): ReLU(inplace=True)\n",
       "      (conv2): Conv2d(64, 64, kernel_size=(3, 3), stride=(1, 1), padding=(1, 1), bias=False)\n",
       "      (bn2): BatchNorm2d(64, eps=1e-05, momentum=0.1, affine=True, track_running_stats=True)\n",
       "    )\n",
       "    (1): BasicBlock(\n",
       "      (conv1): Conv2d(64, 64, kernel_size=(3, 3), stride=(1, 1), padding=(1, 1), bias=False)\n",
       "      (bn1): BatchNorm2d(64, eps=1e-05, momentum=0.1, affine=True, track_running_stats=True)\n",
       "      (relu): ReLU(inplace=True)\n",
       "      (conv2): Conv2d(64, 64, kernel_size=(3, 3), stride=(1, 1), padding=(1, 1), bias=False)\n",
       "      (bn2): BatchNorm2d(64, eps=1e-05, momentum=0.1, affine=True, track_running_stats=True)\n",
       "    )\n",
       "  )\n",
       "  (layer2): Sequential(\n",
       "    (0): BasicBlock(\n",
       "      (conv1): Conv2d(64, 128, kernel_size=(3, 3), stride=(2, 2), padding=(1, 1), bias=False)\n",
       "      (bn1): BatchNorm2d(128, eps=1e-05, momentum=0.1, affine=True, track_running_stats=True)\n",
       "      (relu): ReLU(inplace=True)\n",
       "      (conv2): Conv2d(128, 128, kernel_size=(3, 3), stride=(1, 1), padding=(1, 1), bias=False)\n",
       "      (bn2): BatchNorm2d(128, eps=1e-05, momentum=0.1, affine=True, track_running_stats=True)\n",
       "      (downsample): Sequential(\n",
       "        (0): Conv2d(64, 128, kernel_size=(1, 1), stride=(2, 2), bias=False)\n",
       "        (1): BatchNorm2d(128, eps=1e-05, momentum=0.1, affine=True, track_running_stats=True)\n",
       "      )\n",
       "    )\n",
       "    (1): BasicBlock(\n",
       "      (conv1): Conv2d(128, 128, kernel_size=(3, 3), stride=(1, 1), padding=(1, 1), bias=False)\n",
       "      (bn1): BatchNorm2d(128, eps=1e-05, momentum=0.1, affine=True, track_running_stats=True)\n",
       "      (relu): ReLU(inplace=True)\n",
       "      (conv2): Conv2d(128, 128, kernel_size=(3, 3), stride=(1, 1), padding=(1, 1), bias=False)\n",
       "      (bn2): BatchNorm2d(128, eps=1e-05, momentum=0.1, affine=True, track_running_stats=True)\n",
       "    )\n",
       "  )\n",
       "  (layer3): Sequential(\n",
       "    (0): BasicBlock(\n",
       "      (conv1): Conv2d(128, 256, kernel_size=(3, 3), stride=(2, 2), padding=(1, 1), bias=False)\n",
       "      (bn1): BatchNorm2d(256, eps=1e-05, momentum=0.1, affine=True, track_running_stats=True)\n",
       "      (relu): ReLU(inplace=True)\n",
       "      (conv2): Conv2d(256, 256, kernel_size=(3, 3), stride=(1, 1), padding=(1, 1), bias=False)\n",
       "      (bn2): BatchNorm2d(256, eps=1e-05, momentum=0.1, affine=True, track_running_stats=True)\n",
       "      (downsample): Sequential(\n",
       "        (0): Conv2d(128, 256, kernel_size=(1, 1), stride=(2, 2), bias=False)\n",
       "        (1): BatchNorm2d(256, eps=1e-05, momentum=0.1, affine=True, track_running_stats=True)\n",
       "      )\n",
       "    )\n",
       "    (1): BasicBlock(\n",
       "      (conv1): Conv2d(256, 256, kernel_size=(3, 3), stride=(1, 1), padding=(1, 1), bias=False)\n",
       "      (bn1): BatchNorm2d(256, eps=1e-05, momentum=0.1, affine=True, track_running_stats=True)\n",
       "      (relu): ReLU(inplace=True)\n",
       "      (conv2): Conv2d(256, 256, kernel_size=(3, 3), stride=(1, 1), padding=(1, 1), bias=False)\n",
       "      (bn2): BatchNorm2d(256, eps=1e-05, momentum=0.1, affine=True, track_running_stats=True)\n",
       "    )\n",
       "  )\n",
       "  (layer4): Sequential(\n",
       "    (0): BasicBlock(\n",
       "      (conv1): Conv2d(256, 512, kernel_size=(3, 3), stride=(2, 2), padding=(1, 1), bias=False)\n",
       "      (bn1): BatchNorm2d(512, eps=1e-05, momentum=0.1, affine=True, track_running_stats=True)\n",
       "      (relu): ReLU(inplace=True)\n",
       "      (conv2): Conv2d(512, 512, kernel_size=(3, 3), stride=(1, 1), padding=(1, 1), bias=False)\n",
       "      (bn2): BatchNorm2d(512, eps=1e-05, momentum=0.1, affine=True, track_running_stats=True)\n",
       "      (downsample): Sequential(\n",
       "        (0): Conv2d(256, 512, kernel_size=(1, 1), stride=(2, 2), bias=False)\n",
       "        (1): BatchNorm2d(512, eps=1e-05, momentum=0.1, affine=True, track_running_stats=True)\n",
       "      )\n",
       "    )\n",
       "    (1): BasicBlock(\n",
       "      (conv1): Conv2d(512, 512, kernel_size=(3, 3), stride=(1, 1), padding=(1, 1), bias=False)\n",
       "      (bn1): BatchNorm2d(512, eps=1e-05, momentum=0.1, affine=True, track_running_stats=True)\n",
       "      (relu): ReLU(inplace=True)\n",
       "      (conv2): Conv2d(512, 512, kernel_size=(3, 3), stride=(1, 1), padding=(1, 1), bias=False)\n",
       "      (bn2): BatchNorm2d(512, eps=1e-05, momentum=0.1, affine=True, track_running_stats=True)\n",
       "    )\n",
       "  )\n",
       "  (avgpool): AdaptiveAvgPool2d(output_size=(1, 1))\n",
       "  (fc): Linear(in_features=512, out_features=4, bias=True)\n",
       ")"
      ]
     },
     "execution_count": 19,
     "metadata": {},
     "output_type": "execute_result"
    }
   ],
   "source": [
    "# setup the model\n",
    "model = models.resnet18(pretrained = True)\n",
    "model.fc = nn.Linear(in_features = 512, out_features = 4)\n",
    "model.load_state_dict(torch.load(\"CornDiseaseDetection.pt\"))\n",
    "model.eval()"
   ]
  },
  {
   "cell_type": "code",
   "execution_count": 6,
   "metadata": {},
   "outputs": [],
   "source": [
    "# setup info from Siddarth's original model building program\n",
    "# this will need to be imported if turned into a generalizable script\n",
    "loss_fn = nn.CrossEntropyLoss()\n",
    "\n",
    "train_transform = transforms.Compose([\n",
    "    transforms.Resize(size=(256, 256)), \n",
    "    transforms.RandomHorizontalFlip(), \n",
    "    transforms.RandomVerticalFlip(), \n",
    "    transforms.ToTensor(), \n",
    "    transforms.Normalize(mean=[0.485, 0.456, 0.406], \n",
    "                         std = [0.229, 0.224, 0.225])\n",
    "])\n",
    "val_transform = transforms.Compose([\n",
    "    transforms.Resize(size=(256, 256)), \n",
    "    transforms.ToTensor(), \n",
    "    transforms.Normalize(mean=[0.485, 0.456, 0.406], \n",
    "                         std = [0.229, 0.224, 0.225])\n",
    "])\n",
    "test_transform = transforms.Compose([\n",
    "    transforms.Resize(size=(256, 256)), \n",
    "    transforms.ToTensor(), \n",
    "    transforms.Normalize(mean=[0.485, 0.456, 0.406], \n",
    "                         std = [0.229, 0.224, 0.225])\n",
    "])\n",
    "\n",
    "train = torchvision.datasets.ImageFolder(root = \"C:\\\\Users\\\\user\\\\Documents\\\\Classes\\\\CS597 Summer 2023\\\\split_data\\\\train\", transform = train_transform)\n",
    "val = torchvision.datasets.ImageFolder(root = \"C:\\\\Users\\\\user\\\\Documents\\\\Classes\\\\CS597 Summer 2023\\\\split_data\\\\val\", transform = val_transform)\n",
    "test = torchvision.datasets.ImageFolder(root = \"C:\\\\Users\\\\user\\\\Documents\\\\Classes\\\\CS597 Summer 2023\\\\split_data\\\\test\", transform = test_transform)\n",
    "\n",
    "batch_size = 32\n",
    "train_dl = DataLoader(train, batch_size, shuffle = True)\n",
    "val_dl = DataLoader(val, batch_size, shuffle = True)\n",
    "test_dl = DataLoader(test, batch_size, shuffle = True)\n",
    "\n",
    "optimizer = torch.optim.SGD(model.parameters(), lr=10e-3)\n"
   ]
  },
  {
   "cell_type": "code",
   "execution_count": 7,
   "metadata": {},
   "outputs": [
    {
     "name": "stdout",
     "output_type": "stream",
     "text": [
      "Test Loss: 0.1130 | Test Accuracy: 95.97%\n"
     ]
    },
    {
     "data": {
      "text/plain": [
       "(0.11298563740482288, 95.97156398104265)"
      ]
     },
     "execution_count": 7,
     "metadata": {},
     "output_type": "execute_result"
    }
   ],
   "source": [
    "# Starting accuracy\n",
    "evaluate_model(model, test_dl, loss_fn, device)"
   ]
  },
  {
   "cell_type": "code",
   "execution_count": 8,
   "metadata": {},
   "outputs": [],
   "source": [
    "# # information about the model, figuring out structure for iterating through layers\n",
    "# print(\"Model's state_dict:\")\n",
    "# for param_tensor in model.state_dict():\n",
    "#         print(param_tensor, \"\\t\", model.state_dict()[param_tensor].size())"
   ]
  },
  {
   "cell_type": "markdown",
   "metadata": {},
   "source": [
    "# 3. Pruning Code"
   ]
  },
  {
   "cell_type": "code",
   "execution_count": 20,
   "metadata": {},
   "outputs": [],
   "source": [
    "# duplicate the imported model, just in case\n",
    "model_mod = copy.deepcopy(model)"
   ]
  },
  {
   "cell_type": "markdown",
   "metadata": {},
   "source": [
    "## Pruning Functions"
   ]
  },
  {
   "cell_type": "markdown",
   "metadata": {},
   "source": [
    "The functions \"mask_and_prune_layer\" and \"prune_all_layer_weights\" are the two core pruning functions. Prune_all_layer_weights is a recursive function that is intended to iterate through all the layers, and groups of layers, and send any layer with a \"weight\" attribute to be pruned. It probably could have be made simpler by looking for layers with \"requires_grad=True\" and sending those to be pruned, while looking for any layer container and passing it recursively to prune_all_layer_weights.\n",
    "\n",
    "Mask_and_prune_layer take a layer from a model, makes all the values positive, and scales them so that the largest is 1. It then creates a mask that prunes any value in the bottom 20%. Finally, to keep the model file sizes from ballooning, it trims the mask leaving only the pruned model.\n",
    "\n",
    "Unfortunately, I realized after running the model through ten retraining iterations (10 hours of calculations), that the model did not get more sparse as it went. It retained the same number of non-zero entries after ten retrainings as it did after one. My mistake was in removing the bottom 20% of all weights, when I should have been removing the bottom 20% of *non-zero* weights. In this version of the code, I've rewritten it to do that."
   ]
  },
  {
   "cell_type": "code",
   "execution_count": 10,
   "metadata": {},
   "outputs": [],
   "source": [
    "# these function just count parameters\n",
    "# https://discuss.pytorch.org/t/how-to-count-the-number-of-zero-weights-in-a-pytorch-model/13549\n",
    "def countZeroWeights(model):\n",
    "    zeros = 0\n",
    "    for param in model.parameters():\n",
    "        if param is not None:\n",
    "            zeros += torch.sum((param == 0).int()).item()\n",
    "    return zeros\n",
    "\n",
    "def countNonZeroWeights(model):\n",
    "    nonzeros = 0\n",
    "    for param in model.parameters():\n",
    "        if param is not None:\n",
    "            nonzeros += torch.sum((param != 0).int()).item()\n",
    "    return nonzeros\n"
   ]
  },
  {
   "cell_type": "code",
   "execution_count": 11,
   "metadata": {},
   "outputs": [],
   "source": [
    "def mask_and_prune_layer(module):\n",
    "    # 'module' should have a 'weight' parameter\n",
    "    # set weights to absolute value\n",
    "    tensor_abs = module.weight.data.abs()\n",
    "    tensor_scaled = tensor_abs / tensor_abs.max()\n",
    "\n",
    "    #make copy\n",
    "    tensor_mask = copy.deepcopy(tensor_scaled)\n",
    "\n",
    "    # create mask to prune any value under in the bottom 2 deciles of non-zero parameters\n",
    "    factor = 0.2\n",
    "\n",
    "    zeros = countZeroWeights(module)\n",
    "    nonzeros = countNonZeroWeights(module)\n",
    "    total = zeros + nonzeros\n",
    "\n",
    "    existing_factor = zeros / total\n",
    "    nonzero_factor = nonzeros / total\n",
    "    new_factor = nonzero_factor * factor\n",
    "    new_factor += existing_factor\n",
    "\n",
    "    q = tensor_mask.quantile(new_factor).item()\n",
    "    \n",
    "    mask_le = tensor_scaled.le(q)\n",
    "    mask_ge = tensor_scaled.ge(q)\n",
    "    tensor_mask = tensor_mask.masked_fill(mask_le, 0.0)\n",
    "    tensor_mask = tensor_mask.masked_fill(mask_ge, 1.0)\n",
    "\n",
    "    # prune happens in place, so no need to return\n",
    "    prune.custom_from_mask(module, 'weight', tensor_mask)\n",
    "    prune.remove(module, 'weight')\n"
   ]
  },
  {
   "cell_type": "code",
   "execution_count": 12,
   "metadata": {},
   "outputs": [],
   "source": [
    "def prune_all_layer_weights(model):\n",
    "    for a, b in model.named_children():\n",
    "        #print (type(b))\n",
    "        if isinstance(b, torch.nn.modules.conv.Conv2d):\n",
    "            #print(\"Pruned!\")\n",
    "            mask_and_prune_layer(b)\n",
    "        if isinstance(b, torch.nn.modules.container.Sequential):\n",
    "            prune_all_layer_weights(b)\n",
    "        if isinstance(b, torch.nn.modules.linear.Linear):\n",
    "            #print(\"Pruned!\")\n",
    "            mask_and_prune_layer(b)\n",
    "        if isinstance(b, torchvision.models.resnet.BasicBlock):\n",
    "            prune_all_layer_weights(b)"
   ]
  },
  {
   "cell_type": "markdown",
   "metadata": {},
   "source": [
    "## Training\n",
    "These two cells were, for the most part, taken from the code Siddarth provided to train the original model. I still don't know much about how to train models, so this seemed most efficient. I did change some variable names to make them more consistent, and I had the function return the lists of results rather than plotting and discarding them at the end."
   ]
  },
  {
   "cell_type": "code",
   "execution_count": 13,
   "metadata": {},
   "outputs": [],
   "source": [
    "# setting up some global variables\n",
    "all_train_accuracies = []\n",
    "all_val_accuracies = []\n",
    "test_accuracies = []\n",
    "\n",
    "all_train_losses = []\n",
    "all_val_losses = []\n",
    "test_losses = []"
   ]
  },
  {
   "cell_type": "code",
   "execution_count": 14,
   "metadata": {},
   "outputs": [],
   "source": [
    "# this function is modified from Siddarth's train_and_validate function\n",
    "def retrain_and_validate(model, optimizer, num_epochs):\n",
    "\n",
    "    train_accuracies = []\n",
    "    val_accuracies = []\n",
    "\n",
    "    train_losses = []\n",
    "    val_losses = []\n",
    "\n",
    "    for epoch in range(num_epochs):\n",
    "        \n",
    "        train_loss, train_accuracy = train_mode(model, train_dl, optimizer, loss_fn, device)\n",
    "        val_loss, val_accuracy = validate_model(model, val_dl, loss_fn, device)\n",
    "\n",
    "        print(f\"Epoch {epoch+1}/{num_epochs}:\")\n",
    "        print(f\"Training Loss: {train_loss:.4f} | Training Accuracy: {train_accuracy:.2f}%\")\n",
    "        print(f\"Validation Loss: {val_loss:.4f} | Validation Accuracy: {val_accuracy:.2f}%\")\n",
    "        print()\n",
    "\n",
    "        train_accuracies.append(train_accuracy)\n",
    "        val_accuracies.append(val_accuracy)\n",
    "\n",
    "        train_losses.append(train_loss)\n",
    "        val_losses.append(val_loss)\n",
    "    \n",
    "    return train_losses, train_accuracies, val_losses, val_accuracies"
   ]
  },
  {
   "cell_type": "markdown",
   "metadata": {},
   "source": [
    "The next two cells contain code that I wrote. The first saves the model to disk, as this seems a better use of resources than trying to keep each stage of retraining in memory. This also gave me checkpoints in case the script was interrupted (like if the power had gone out for more than an hour (which, it did go out, but not for that long)).\n",
    "\n",
    "The multiple_retrains function takes an already trained model, prunes it, retrains it, and saves the results."
   ]
  },
  {
   "cell_type": "code",
   "execution_count": 15,
   "metadata": {},
   "outputs": [],
   "source": [
    "# Save the above model so I don't need to calculate it again.\n",
    "def save_model_state_dict(model, suffix=\"\"):\n",
    "    torch.save(model.state_dict(), \"CornDiseaseDetection2-\" + suffix + \".pt\")\n",
    "    print(f\"Saved model: CornDiseaseDetection2-\" + suffix + \".pt\")"
   ]
  },
  {
   "cell_type": "code",
   "execution_count": 16,
   "metadata": {},
   "outputs": [],
   "source": [
    "def multiple_retrains(model, optimizer, num_epochs, num_retrains, start_num=0):\n",
    "\n",
    "    for retrain in range(start_num, num_retrains):\n",
    "\n",
    "        print()\n",
    "        print(f\"Round {retrain+1}! FIGHT!\")\n",
    "        print()\n",
    "        \n",
    "        prune_all_layer_weights(model)\n",
    "        train_losses, train_accuracies, val_losses, val_accuracies = retrain_and_validate(model, optimizer, num_epochs)\n",
    "\n",
    "        all_train_accuracies.append(train_accuracies)\n",
    "        all_val_accuracies.append(val_accuracies)\n",
    "\n",
    "        all_train_losses.append(train_losses)\n",
    "        all_val_losses.append(val_losses)\n",
    "\n",
    "        test_loss, test_accuracy = evaluate_model(model, test_dl, loss_fn, device)\n",
    "        test_losses.append(test_loss)\n",
    "        test_accuracies.append(test_accuracy)\n",
    "\n",
    "        save_model_state_dict(model, suffix=f\"rewind-{retrain+1}\")"
   ]
  },
  {
   "cell_type": "code",
   "execution_count": 46,
   "metadata": {},
   "outputs": [
    {
     "name": "stdout",
     "output_type": "stream",
     "text": [
      "\n",
      "Round 5! FIGHT!\n",
      "\n",
      "Epoch 1/10:\n",
      "Training Loss: 0.1294 | Training Accuracy: 95.73%\n",
      "Validation Loss: 0.1571 | Validation Accuracy: 95.10%\n",
      "\n",
      "Epoch 2/10:\n",
      "Training Loss: 0.1293 | Training Accuracy: 96.14%\n",
      "Validation Loss: 0.1512 | Validation Accuracy: 94.74%\n",
      "\n",
      "Epoch 3/10:\n",
      "Training Loss: 0.1342 | Training Accuracy: 95.77%\n",
      "Validation Loss: 0.1505 | Validation Accuracy: 94.62%\n",
      "\n",
      "Epoch 4/10:\n",
      "Training Loss: 0.1300 | Training Accuracy: 96.14%\n",
      "Validation Loss: 0.1522 | Validation Accuracy: 94.86%\n",
      "\n",
      "Epoch 5/10:\n",
      "Training Loss: 0.1327 | Training Accuracy: 95.87%\n",
      "Validation Loss: 0.1556 | Validation Accuracy: 94.50%\n",
      "\n",
      "Epoch 6/10:\n",
      "Training Loss: 0.1274 | Training Accuracy: 96.48%\n",
      "Validation Loss: 0.1545 | Validation Accuracy: 94.62%\n",
      "\n",
      "Epoch 7/10:\n",
      "Training Loss: 0.1344 | Training Accuracy: 95.77%\n",
      "Validation Loss: 0.1528 | Validation Accuracy: 94.74%\n",
      "\n",
      "Epoch 8/10:\n",
      "Training Loss: 0.1284 | Training Accuracy: 96.35%\n",
      "Validation Loss: 0.1940 | Validation Accuracy: 94.86%\n",
      "\n",
      "Epoch 9/10:\n",
      "Training Loss: 0.1340 | Training Accuracy: 96.08%\n",
      "Validation Loss: 0.1644 | Validation Accuracy: 94.62%\n",
      "\n",
      "Epoch 10/10:\n",
      "Training Loss: 0.1359 | Training Accuracy: 95.97%\n",
      "Validation Loss: 0.1738 | Validation Accuracy: 94.86%\n",
      "\n",
      "Test Loss: 0.1689 | Test Accuracy: 93.84%\n",
      "Saved model: CornDiseaseDetection2-rewind-5.pt\n",
      "\n",
      "Round 6! FIGHT!\n",
      "\n",
      "Epoch 1/10:\n",
      "Training Loss: 0.2227 | Training Accuracy: 94.06%\n",
      "Validation Loss: 0.2195 | Validation Accuracy: 93.18%\n",
      "\n",
      "Epoch 2/10:\n",
      "Training Loss: 0.2188 | Training Accuracy: 93.48%\n",
      "Validation Loss: 0.2141 | Validation Accuracy: 93.30%\n",
      "\n",
      "Epoch 3/10:\n",
      "Training Loss: 0.2194 | Training Accuracy: 93.72%\n",
      "Validation Loss: 0.2257 | Validation Accuracy: 93.18%\n",
      "\n",
      "Epoch 4/10:\n",
      "Training Loss: 0.2224 | Training Accuracy: 93.52%\n",
      "Validation Loss: 0.2144 | Validation Accuracy: 93.18%\n",
      "\n",
      "Epoch 5/10:\n",
      "Training Loss: 0.2194 | Training Accuracy: 93.75%\n",
      "Validation Loss: 0.2112 | Validation Accuracy: 93.18%\n",
      "\n",
      "Epoch 6/10:\n",
      "Training Loss: 0.2192 | Training Accuracy: 94.03%\n",
      "Validation Loss: 0.2113 | Validation Accuracy: 93.54%\n",
      "\n",
      "Epoch 7/10:\n",
      "Training Loss: 0.2188 | Training Accuracy: 94.10%\n",
      "Validation Loss: 0.2274 | Validation Accuracy: 93.42%\n",
      "\n",
      "Epoch 8/10:\n",
      "Training Loss: 0.2220 | Training Accuracy: 93.62%\n",
      "Validation Loss: 0.2168 | Validation Accuracy: 93.30%\n",
      "\n",
      "Epoch 9/10:\n",
      "Training Loss: 0.2167 | Training Accuracy: 93.48%\n",
      "Validation Loss: 0.2179 | Validation Accuracy: 93.18%\n",
      "\n",
      "Epoch 10/10:\n",
      "Training Loss: 0.2147 | Training Accuracy: 94.51%\n",
      "Validation Loss: 0.2140 | Validation Accuracy: 93.30%\n",
      "\n",
      "Test Loss: 0.2287 | Test Accuracy: 91.00%\n",
      "Saved model: CornDiseaseDetection2-rewind-6.pt\n",
      "\n",
      "Round 7! FIGHT!\n",
      "\n",
      "Epoch 1/10:\n",
      "Training Loss: 0.3206 | Training Accuracy: 91.33%\n",
      "Validation Loss: 0.3134 | Validation Accuracy: 90.07%\n",
      "\n",
      "Epoch 2/10:\n",
      "Training Loss: 0.3240 | Training Accuracy: 91.91%\n",
      "Validation Loss: 0.3248 | Validation Accuracy: 89.95%\n",
      "\n",
      "Epoch 3/10:\n",
      "Training Loss: 0.3240 | Training Accuracy: 91.54%\n",
      "Validation Loss: 0.3148 | Validation Accuracy: 90.43%\n",
      "\n",
      "Epoch 4/10:\n",
      "Training Loss: 0.3223 | Training Accuracy: 91.57%\n",
      "Validation Loss: 0.3205 | Validation Accuracy: 89.35%\n",
      "\n",
      "Epoch 5/10:\n",
      "Training Loss: 0.3230 | Training Accuracy: 91.37%\n",
      "Validation Loss: 0.3258 | Validation Accuracy: 89.47%\n",
      "\n",
      "Epoch 6/10:\n",
      "Training Loss: 0.3355 | Training Accuracy: 90.41%\n",
      "Validation Loss: 0.3152 | Validation Accuracy: 90.31%\n",
      "\n",
      "Epoch 7/10:\n",
      "Training Loss: 0.3226 | Training Accuracy: 91.81%\n",
      "Validation Loss: 0.3237 | Validation Accuracy: 89.83%\n",
      "\n",
      "Epoch 8/10:\n",
      "Training Loss: 0.3231 | Training Accuracy: 91.64%\n",
      "Validation Loss: 0.3170 | Validation Accuracy: 89.83%\n",
      "\n",
      "Epoch 9/10:\n",
      "Training Loss: 0.3405 | Training Accuracy: 90.20%\n",
      "Validation Loss: 0.3204 | Validation Accuracy: 90.55%\n",
      "\n",
      "Epoch 10/10:\n",
      "Training Loss: 0.3294 | Training Accuracy: 91.37%\n",
      "Validation Loss: 0.3435 | Validation Accuracy: 89.59%\n",
      "\n",
      "Test Loss: 0.3253 | Test Accuracy: 91.23%\n",
      "Saved model: CornDiseaseDetection2-rewind-7.pt\n",
      "\n",
      "Round 8! FIGHT!\n",
      "\n",
      "Epoch 1/10:\n",
      "Training Loss: 0.4378 | Training Accuracy: 90.14%\n",
      "Validation Loss: 0.4249 | Validation Accuracy: 89.95%\n",
      "\n",
      "Epoch 2/10:\n",
      "Training Loss: 0.4381 | Training Accuracy: 90.34%\n",
      "Validation Loss: 0.4308 | Validation Accuracy: 90.07%\n",
      "\n",
      "Epoch 3/10:\n",
      "Training Loss: 0.4397 | Training Accuracy: 89.73%\n",
      "Validation Loss: 0.4276 | Validation Accuracy: 90.31%\n",
      "\n",
      "Epoch 4/10:\n",
      "Training Loss: 0.4480 | Training Accuracy: 89.39%\n",
      "Validation Loss: 0.4254 | Validation Accuracy: 89.59%\n",
      "\n",
      "Epoch 5/10:\n",
      "Training Loss: 0.4424 | Training Accuracy: 90.24%\n",
      "Validation Loss: 0.4298 | Validation Accuracy: 90.31%\n",
      "\n",
      "Epoch 6/10:\n",
      "Training Loss: 0.4431 | Training Accuracy: 89.69%\n",
      "Validation Loss: 0.4262 | Validation Accuracy: 90.31%\n",
      "\n",
      "Epoch 7/10:\n",
      "Training Loss: 0.4331 | Training Accuracy: 90.44%\n",
      "Validation Loss: 0.4343 | Validation Accuracy: 89.83%\n",
      "\n",
      "Epoch 8/10:\n",
      "Training Loss: 0.4381 | Training Accuracy: 90.51%\n",
      "Validation Loss: 0.4279 | Validation Accuracy: 90.31%\n",
      "\n",
      "Epoch 9/10:\n",
      "Training Loss: 0.4361 | Training Accuracy: 89.86%\n",
      "Validation Loss: 0.4259 | Validation Accuracy: 90.07%\n",
      "\n",
      "Epoch 10/10:\n",
      "Training Loss: 0.4363 | Training Accuracy: 90.65%\n",
      "Validation Loss: 0.4263 | Validation Accuracy: 90.31%\n",
      "\n",
      "Test Loss: 0.4359 | Test Accuracy: 87.68%\n",
      "Saved model: CornDiseaseDetection2-rewind-8.pt\n"
     ]
    }
   ],
   "source": [
    "# model, optimizer, num_epochs, num_retrains, start_num=0\n",
    "multiple_retrains(model_mod, optimizer, 10, 8, 4)"
   ]
  },
  {
   "cell_type": "code",
   "execution_count": 47,
   "metadata": {},
   "outputs": [
    {
     "name": "stdout",
     "output_type": "stream",
     "text": [
      "11178564\n",
      "1883466\n"
     ]
    }
   ],
   "source": [
    "print(countNonZeroWeights(model))\n",
    "print(countNonZeroWeights(model_mod))"
   ]
  },
  {
   "cell_type": "code",
   "execution_count": 48,
   "metadata": {},
   "outputs": [
    {
     "name": "stdout",
     "output_type": "stream",
     "text": [
      "Test Loss: 0.1268 | Test Accuracy: 95.97%\n",
      "Test Loss: 0.4261 | Test Accuracy: 87.68%\n"
     ]
    },
    {
     "data": {
      "text/plain": [
       "(0.4261067115834781, 87.67772511848341)"
      ]
     },
     "execution_count": 48,
     "metadata": {},
     "output_type": "execute_result"
    }
   ],
   "source": [
    "evaluate_model(model, test_dl, loss_fn, device)\n",
    "evaluate_model(model_mod, test_dl, loss_fn, device)"
   ]
  },
  {
   "cell_type": "markdown",
   "metadata": {},
   "source": [
    "## Collecting Data\n",
    "In the next cell I create a master list of tested model accuracies and sparseness percentages, starting with the base model and appending the results for each successive retraining. Because I saved the models to disk after each round of retraining, it was straight forward to reload them and calculate the sparseness. I did take a shortcut, and use the training accuracies that were saved during the rewinding training to save a bit of calculation time, but it would only take a few minutes to recalculate the accuracies by running the models against the test set if needed."
   ]
  },
  {
   "cell_type": "code",
   "execution_count": 80,
   "metadata": {},
   "outputs": [
    {
     "name": "stdout",
     "output_type": "stream",
     "text": [
      "Test Loss: 0.1152 | Test Accuracy: 95.97%\n"
     ]
    },
    {
     "name": "stderr",
     "output_type": "stream",
     "text": [
      "c:\\Users\\user\\anaconda3\\envs\\NeuralNetworkPruning\\Lib\\site-packages\\torchvision\\models\\_utils.py:208: UserWarning: The parameter 'pretrained' is deprecated since 0.13 and may be removed in the future, please use 'weights' instead.\n",
      "  warnings.warn(\n",
      "c:\\Users\\user\\anaconda3\\envs\\NeuralNetworkPruning\\Lib\\site-packages\\torchvision\\models\\_utils.py:223: UserWarning: Arguments other than a weight enum or `None` for 'weights' are deprecated since 0.13 and may be removed in the future. The current behavior is equivalent to passing `weights=ResNet18_Weights.IMAGENET1K_V1`. You can also use `weights=ResNet18_Weights.DEFAULT` to get the most up-to-date weights.\n",
      "  warnings.warn(msg)\n"
     ]
    },
    {
     "name": "stdout",
     "output_type": "stream",
     "text": [
      "Loaded model: CornDiseaseDetection2-rewind-1.pt\n",
      "Calculated sparseness for CornDiseaseDetection2-rewind-1.pt: 19.982852895953364\n",
      "Loaded model: CornDiseaseDetection2-rewind-2.pt\n",
      "Calculated sparseness for CornDiseaseDetection2-rewind-2.pt: 35.969101219083235\n",
      "Loaded model: CornDiseaseDetection2-rewind-3.pt\n",
      "Calculated sparseness for CornDiseaseDetection2-rewind-3.pt: 48.75807840792431\n",
      "Loaded model: CornDiseaseDetection2-rewind-4.pt\n",
      "Calculated sparseness for CornDiseaseDetection2-rewind-4.pt: 58.989267315551444\n",
      "Loaded model: CornDiseaseDetection2-rewind-5.pt\n",
      "Calculated sparseness for CornDiseaseDetection2-rewind-5.pt: 67.17416476749608\n",
      "Loaded model: CornDiseaseDetection2-rewind-6.pt\n",
      "Calculated sparseness for CornDiseaseDetection2-rewind-6.pt: 73.72212566837743\n",
      "Loaded model: CornDiseaseDetection2-rewind-7.pt\n",
      "Calculated sparseness for CornDiseaseDetection2-rewind-7.pt: 78.96045502803402\n",
      "Loaded model: CornDiseaseDetection2-rewind-8.pt\n",
      "Calculated sparseness for CornDiseaseDetection2-rewind-8.pt: 83.15109167868073\n",
      "[0.0, 19.982852895953364, 35.969101219083235, 48.75807840792431, 58.989267315551444, 67.17416476749608, 73.72212566837743, 78.96045502803402, 83.15109167868073]\n",
      "[95.97156398104265, 95.73459715639811, 95.49763033175356, 95.260663507109, 94.07582938388626, 93.8388625592417, 90.99526066350711, 91.23222748815166, 87.67772511848341]\n"
     ]
    }
   ],
   "source": [
    "# import each model and calculate the sparsity for plotting against accuracy\n",
    "\n",
    "sparse_percentages = [] # sparseness\n",
    "final_test_accuracies = [evaluate_model(model, test_dl, loss_fn, device)[1]] + test_accuracies # accuracy of each model versus test data set\n",
    "\n",
    "# add the value for the base model to the head of the sparseness list\n",
    "zeros = countZeroWeights(model)\n",
    "nonzeros = countNonZeroWeights(model)\n",
    "total = zeros + nonzeros\n",
    "sparse_percentage = 100 * (zeros / total)\n",
    "sparse_percentages.append(sparse_percentage)\n",
    "\n",
    "\n",
    "# set up a second model for loading and iterating through the pruned models\n",
    "model2 = models.resnet18(pretrained = True)\n",
    "model2.fc = nn.Linear(in_features = 512, out_features = 4)\n",
    "\n",
    "for m in range(1,9):\n",
    "    model2.load_state_dict(torch.load(f\"CornDiseaseDetection2-rewind-{m}.pt\"))\n",
    "    model2.eval()\n",
    "    print(f\"Loaded model: CornDiseaseDetection2-rewind-{m}.pt\")\n",
    "    \n",
    "    # calculate sparseness\n",
    "    zeros = countZeroWeights(model2)\n",
    "    nonzeros = countNonZeroWeights(model2)\n",
    "    total = zeros + nonzeros\n",
    "    sparse_percentage = 100 * (zeros / total)\n",
    "    sparse_percentages.append(sparse_percentage)\n",
    "    print(f\"Calculated sparseness for CornDiseaseDetection2-rewind-{m}.pt: {sparse_percentage}\")\n",
    "\n",
    "print(sparse_percentages)\n",
    "print(final_test_accuracies)"
   ]
  },
  {
   "cell_type": "markdown",
   "metadata": {},
   "source": [
    "# 4. Results\n",
    "The initial model was trained on the training data for 10 epochs. Each rewinding was also trained for 10 epochs.\n",
    "\n",
    "What I hoped to show from this is a curve similar to those found in Figure 2 of \"Comparing Rewinding and Fine-Tuning in Neural Network Pruning\" by Renda, Frankle, and Carbin. Below you can see that the curves do exhibit the same sort of accelerating drop off in accuracy as the original paper, but we do show a nearly 2x compression ratio produces a less than 1% loss in accuracy. (Specifically a 1.95 compression ratio produced a 0.71% drop in accuracy.)\n",
    "\n",
    "I suspect, but have not investigated, that training on a larger image set or training for more epochs would increase the accuracy of each rewinding. If we had more time to train the model up front, we would probably see the compression ratio go up for a given drop in accuracy."
   ]
  },
  {
   "cell_type": "code",
   "execution_count": 94,
   "metadata": {},
   "outputs": [
    {
     "data": {
      "image/png": "[encoded data removed]",
      "text/plain": [
       "<Figure size 640x480 with 1 Axes>"
      ]
     },
     "metadata": {},
     "output_type": "display_data"
    },
    {
     "data": {
      "image/png": "[encoded data removed]",
      "text/plain": [
       "<Figure size 640x480 with 1 Axes>"
      ]
     },
     "metadata": {},
     "output_type": "display_data"
    }
   ],
   "source": [
    "# calculate change from unpruned model\n",
    "change_from_base = []\n",
    "base_accuracy = final_test_accuracies[0]\n",
    "\n",
    "for a in final_test_accuracies:\n",
    "    change_from_base.append(a - base_accuracy)\n",
    "\n",
    "plt.plot(sparse_percentages, final_test_accuracies, \"o-\")\n",
    "#plt.plot(sparse_percentages, \"d-\")\n",
    "plt.xlabel('Sparseness (%)')\n",
    "plt.ylabel('Accuracy (%)')\n",
    "plt.title('Rewind Accuracy vs Sparseness')\n",
    "plt.show()\n",
    "\n",
    "plt.plot(sparse_percentages, change_from_base, \"o-\")\n",
    "#plt.plot(sparse_percentages, \"d-\")\n",
    "plt.xlabel('Sparseness (%)')\n",
    "plt.ylabel('Change in Accuracy (%)')\n",
    "plt.title('Change in Accuracy vs Sparseness')\n",
    "plt.show()"
   ]
  },
  {
   "cell_type": "markdown",
   "metadata": {},
   "source": [
    "# 5. Room for Improvement\n",
    "1. Generalize\n",
    "\n",
    "One of the early goals discussed for this project was to write a generalizable script that could be run on any model to prune it via this iterative learning-rate rewinding. I think that could be done with a configuration file that outlines the necessary parameters of the original model (what model it was, learning rate, optimizer, datasets, etc.).\n",
    "\n",
    "2. CUDA\n",
    "\n",
    "I only spent a few hours early on trying different approaches to getting the CUDA Toolkit installed and working on my computer with an Nvidia GTX 1060, but ultimately gave up and ran everything in the CPU so I could start working. My understanding is that this would speed up the retraining process quite a bit. For the model used in this example, the training time was approximately 1 hour per 10 epochs. This was especially frustrating when windows installed an update and rebooted mid-run at two in the morning.\n",
    "\n",
    "3. File Paths\n",
    "\n",
    "The files paths throughout the program are absolute, rather than relative or parameters. This was what I started with and I did not get around to changing that. Relative or parameterized paths would make it significantly easier to get the script working on another computer, even without further generalization like in point 1.\n",
    "\n",
    "4. prune_all_layer-weights\n",
    "\n",
    "There are more elegant ways to iterate through model layers looking for prunable parameters. For example, it could be changed to prune any layer where requires_grad=True, and it could look for layer types that are containers and recursively search those rather than check for each container type explicitly.\n",
    "\n",
    "5. Global Variables\n",
    "\n",
    "I used a lot of global variables, which really bothers me from a style point of view. That would be straight-forward to fix, but time-consuming.\n",
    "\n",
    "6. Number of Epochs\n",
    "\n",
    "I mentioned it above, but I suspect that increasing the number of training epochs per iteration would increase the compression ratio for a given loss in accuracy. It would not take much work to modify this code to do that, but it would an order of magnitude more time to compute. I may take advantage of an unused server at work and try that.\n",
    "\n",
    "7. General Machine Learning Knowledge\n",
    "\n",
    "I learned quite a bit about working with and pruning neural networks, but I still know very little about the underlying theory or how they are built and trained. I suspect there are a number of questionable choices in the above code that reflect that for someone with better knowledge, but are invisible to me."
   ]
  },
  {
   "cell_type": "markdown",
   "metadata": {},
   "source": []
  }
 ],
 "metadata": {
  "kernelspec": {
   "display_name": "NeuralNetworkPruning",
   "language": "python",
   "name": "python3"
  },
  "language_info": {
   "codemirror_mode": {
    "name": "ipython",
    "version": 3
   },
   "file_extension": ".py",
   "mimetype": "text/x-python",
   "name": "python",
   "nbconvert_exporter": "python",
   "pygments_lexer": "ipython3",
   "version": "3.11.4"
  },
  "orig_nbformat": 4
 },
 "nbformat": 4,
 "nbformat_minor": 2
}
